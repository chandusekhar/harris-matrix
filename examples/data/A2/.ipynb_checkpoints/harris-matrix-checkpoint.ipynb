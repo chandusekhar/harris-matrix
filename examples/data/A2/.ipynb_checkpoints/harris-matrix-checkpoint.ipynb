{
 "cells": [
  {
   "cell_type": "code",
   "execution_count": 144,
   "metadata": {
    "collapsed": false
   },
   "outputs": [],
   "source": [
    "import xml.etree.ElementTree as ET\n",
    "import json"
   ]
  },
  {
   "cell_type": "code",
   "execution_count": 119,
   "metadata": {
    "collapsed": false
   },
   "outputs": [],
   "source": [
    "tree = ET.parse('matrix.xml')"
   ]
  },
  {
   "cell_type": "code",
   "execution_count": 125,
   "metadata": {
    "collapsed": true
   },
   "outputs": [],
   "source": [
    "graphml = {\n",
    "    \"graph\": \"{http://graphml.graphdrawing.org/xmlns/graphml}graph\",\n",
    "    \"node\": \"{http://graphml.graphdrawing.org/xmlns/graphml}node\",\n",
    "    \"edge\": \"{http://graphml.graphdrawing.org/xmlns/graphml}edge\",\n",
    "    \"data\": \"{http://graphml.graphdrawing.org/xmlns/graphml}data\",\n",
    "    \"label\": \"{http://graphml.graphdrawing.org/xmlns/graphml}data[@key='label']\",\n",
    "    \"x\": \"{http://graphml.graphdrawing.org/xmlns/graphml}data[@key='x']\",\n",
    "    \"y\": \"{http://graphml.graphdrawing.org/xmlns/graphml}data[@key='y']\",\n",
    "    \"size\": \"{http://graphml.graphdrawing.org/xmlns/graphml}data[@key='size']\",\n",
    "    \"r\": \"{http://graphml.graphdrawing.org/xmlns/graphml}data[@key='r']\",\n",
    "    \"g\": \"{http://graphml.graphdrawing.org/xmlns/graphml}data[@key='g']\",\n",
    "    \"b\": \"{http://graphml.graphdrawing.org/xmlns/graphml}data[@key='b']\",\n",
    "    \"weight\": \"{http://graphml.graphdrawing.org/xmlns/graphml}data[@key='weight']\",\n",
    "    \"edgeid\": \"{http://graphml.graphdrawing.org/xmlns/graphml}data[@key='edgeid']\"\n",
    "}"
   ]
  },
  {
   "cell_type": "code",
   "execution_count": 146,
   "metadata": {
    "collapsed": false
   },
   "outputs": [],
   "source": [
    "graph = tree.find(graphml[\"graph\"])\n",
    "nodes = graph.findall(graphml[\"node\"])\n",
    "edges = graph.findall(graphml[\"edge\"])"
   ]
  },
  {
   "cell_type": "code",
   "execution_count": 147,
   "metadata": {
    "collapsed": true
   },
   "outputs": [],
   "source": [
    "data = graph.findall(graphml[\"data\"])"
   ]
  },
  {
   "cell_type": "code",
   "execution_count": 129,
   "metadata": {
    "collapsed": true
   },
   "outputs": [],
   "source": [
    "out = {\"nodes\":{}, \"edges\":[]}"
   ]
  },
  {
   "cell_type": "code",
   "execution_count": 130,
   "metadata": {
    "collapsed": false
   },
   "outputs": [
    {
     "name": "stdout",
     "output_type": "stream",
     "text": [
      "Nodes:  39\n",
      "Edges:  272\n"
     ]
    }
   ],
   "source": [
    "print(\"Nodes: \", len(nodes))\n",
    "print(\"Edges: \", len(edges))"
   ]
  },
  {
   "cell_type": "code",
   "execution_count": 136,
   "metadata": {
    "collapsed": true
   },
   "outputs": [],
   "source": [
    "for node in nodes[:]:\n",
    "    out[\"nodes\"][node.get(\"id\")] = {\n",
    "        \"label\": getattr(node.find(graphml.get(\"label\")), \"text\", \"\"),\n",
    "        \"size\": float( getattr(node.find(graphml.get(\"size\")), \"text\", 0) ),\n",
    "        \"r\": getattr(node.find(graphml.get(\"r\")), \"text\", 0),\n",
    "        \"g\": getattr(node.find(graphml.get(\"g\")), \"text\", 0),\n",
    "        \"b\": getattr(node.find(graphml.get(\"b\")), \"text\", 0),\n",
    "        \"x\": float( getattr(node.find(graphml.get(\"x\")), \"text\", 0) ),\n",
    "        \"y\": float( getattr(node.find(graphml.get(\"y\")), \"text\", 0) )\n",
    "    }"
   ]
  },
  {
   "cell_type": "code",
   "execution_count": 139,
   "metadata": {
    "collapsed": true
   },
   "outputs": [],
   "source": [
    "for edge in edges[:]:\n",
    "\tif edge.find(graphml.get(\"edgeid\")) is not None:\n",
    "\t\tedgeid = int(edge.find(graphml.get(\"edgeid\")).text)\n",
    "\telse:\n",
    "\t\tedgeid = None\n",
    "\tout[\"edges\"].append({\"source\": edge.get(\"source\"),\n",
    "\t\t\t\t\t\t \"target\": edge.get(\"target\"),\n",
    "\t\t\t\t\t\t \"edgeid\": edgeid,\n",
    "\t\t\t\t\t\t \"weight\": float( getattr(edge.find(graphml.get(\"weight\")), \"text\", 1) )\n",
    "\t\t\t\t\t\t})"
   ]
  },
  {
   "cell_type": "code",
   "execution_count": 143,
   "metadata": {
    "collapsed": true
   },
   "outputs": [],
   "source": [
    "with open('matrix.json', 'w') as outfile:\n",
    "    json.dump(out, outfile)"
   ]
  },
  {
   "cell_type": "code",
   "execution_count": 145,
   "metadata": {
    "collapsed": false
   },
   "outputs": [],
   "source": [
    "# from pygraphml import GraphMLParser\n",
    "# import matplotlib.pyplot as plt\n",
    "# import networkx as nx\n",
    "# %matplotlib inline\n",
    "\n",
    "# import xml.etree.ElementTree as ET\n",
    "# tree = ET.parse('matrix.xml')\n",
    "# root = tree.getroot()\n",
    "# for child in root:\n",
    "#     if child.tag == '{http://graphml.graphdrawing.org/xmlns/graphml}graph':\n",
    "#         for chi in child.getchildren():\n",
    "#             for c in chi:\n",
    "#                 if c.tag == '{http://graphml.graphdrawing.org/xmlns/graphml}data':\n",
    "#                     print(c.getchildren())\n",
    "\n",
    "# parser = GraphMLParser()\n",
    "# g = parser.parse(\"matrix.xml\")\n",
    "# g.show()"
   ]
  }
 ],
 "metadata": {
  "kernelspec": {
   "display_name": "Python 3",
   "language": "python",
   "name": "python3"
  },
  "language_info": {
   "codemirror_mode": {
    "name": "ipython",
    "version": 3
   },
   "file_extension": ".py",
   "mimetype": "text/x-python",
   "name": "python",
   "nbconvert_exporter": "python",
   "pygments_lexer": "ipython3",
   "version": "3.4.3"
  }
 },
 "nbformat": 4,
 "nbformat_minor": 0
}
